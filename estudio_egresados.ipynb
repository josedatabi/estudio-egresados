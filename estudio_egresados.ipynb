{
 "cells": [
  {
   "cell_type": "code",
   "execution_count": 2,
   "metadata": {},
   "outputs": [],
   "source": [
    "from utils import pipeline as pp\n",
    "import pandas as pd\n",
    "import glob\n",
    "cnn=pp.get_conexion()\n",
    "schema='egresados'\n"
   ]
  },
  {
   "cell_type": "markdown",
   "metadata": {},
   "source": [
    "# **RBD_BENCHMARK**"
   ]
  },
  {
   "cell_type": "code",
   "execution_count": 3,
   "metadata": {},
   "outputs": [],
   "source": [
    "df_benchmark=pd.read_csv('benchmark.csv',sep=';')"
   ]
  },
  {
   "cell_type": "code",
   "execution_count": 4,
   "metadata": {},
   "outputs": [],
   "source": [
    "tabla='rbd_benchmark'\n",
    "pp.insert_table(cnn,schema,tabla,df_benchmark)"
   ]
  },
  {
   "cell_type": "markdown",
   "metadata": {},
   "source": [
    "# **RENDIMIENTO**"
   ]
  },
  {
   "cell_type": "code",
   "execution_count": 22,
   "metadata": {},
   "outputs": [],
   "source": [
    "df_benchmark=pd.read_sql_query('SELECT distinct bench_rbd, cod_ense\tFROM egresados.rbd_benchmark;',cnn)"
   ]
  },
  {
   "cell_type": "code",
   "execution_count": 9,
   "metadata": {},
   "outputs": [
    {
     "name": "stderr",
     "output_type": "stream",
     "text": [
      "c:\\Users\\torre\\anaconda3\\lib\\site-packages\\IPython\\core\\interactiveshell.py:3444: DtypeWarning: Columns (15) have mixed types.Specify dtype option on import or set low_memory=False.\n",
      "  exec(code_obj, self.user_global_ns, self.user_ns)\n"
     ]
    }
   ],
   "source": [
    "# df_rendimiento=pd.read_csv('rendimiento/rendimiento/Rendimiento por estudiante 2011.csv',sep=';',encoding='utf8')\n",
    "# df_egresados=df_rendimiento.loc[:,\n",
    "#                    #[i.lower() for i in\n",
    "#                     ['AGNO', 'RBD', 'COD_ENSE', 'COD_GRADO', 'LET_CUR',  'MRUN',  'PROM_GRAL', 'ASISTENCIA', 'SIT_FIN','SIT_FIN_R']\n",
    "#                     #]\n",
    "#                    ]\n",
    "# df_egresados.to_csv('egresados_2011.csv',sep=';')"
   ]
  },
  {
   "cell_type": "code",
   "execution_count": 28,
   "metadata": {},
   "outputs": [
    {
     "name": "stderr",
     "output_type": "stream",
     "text": [
      "c:\\Users\\torre\\anaconda3\\lib\\site-packages\\IPython\\core\\interactiveshell.py:3444: DtypeWarning: Columns (6) have mixed types.Specify dtype option on import or set low_memory=False.\n",
      "  exec(code_obj, self.user_global_ns, self.user_ns)\n"
     ]
    }
   ],
   "source": [
    "lst_dfs=[]\n",
    "for file in glob.glob('bases/egresados/*.csv'):\n",
    "    lst_dfs.append(pd.read_csv(file,sep=';'))\n",
    "df_egresados=pd.concat(lst_dfs)"
   ]
  },
  {
   "cell_type": "code",
   "execution_count": 29,
   "metadata": {},
   "outputs": [],
   "source": [
    "df_egresados=  pd.merge(df_egresados[df_egresados['COD_GRADO']==4],df_benchmark,how='inner', left_on=['RBD','COD_ENSE'],right_on=['bench_rbd','cod_ense']).loc[:,\n",
    "                   #[i.lower() for i in\n",
    "                    ['AGNO', 'RBD', \n",
    "       'COD_ENSE', 'COD_GRADO', 'LET_CUR',  'MRUN',  'PROM_GRAL', 'ASISTENCIA', 'SIT_FIN',\n",
    "       'SIT_FIN_R']]#]\n",
    "df_egresados.columns=[i.lower() for i in df_egresados.columns]"
   ]
  },
  {
   "cell_type": "code",
   "execution_count": 30,
   "metadata": {},
   "outputs": [
    {
     "name": "stdout",
     "output_type": "stream",
     "text": [
      "La tabla <<egresados.egresados>> no existe, omitiendo\n"
     ]
    }
   ],
   "source": [
    "tabla='egresados'\n",
    "\n",
    "pp.insert_table(cnn,schema, tabla,df_egresados)"
   ]
  }
 ],
 "metadata": {
  "kernelspec": {
   "display_name": "base",
   "language": "python",
   "name": "python3"
  },
  "language_info": {
   "codemirror_mode": {
    "name": "ipython",
    "version": 3
   },
   "file_extension": ".py",
   "mimetype": "text/x-python",
   "name": "python",
   "nbconvert_exporter": "python",
   "pygments_lexer": "ipython3",
   "version": "3.9.7"
  }
 },
 "nbformat": 4,
 "nbformat_minor": 2
}
