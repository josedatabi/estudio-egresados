{
 "cells": [
  {
   "cell_type": "code",
   "execution_count": 47,
   "metadata": {},
   "outputs": [],
   "source": [
    "from utils import pipeline as pp\n",
    "import pandas as pd\n",
    "import glob\n",
    "cnn=pp.get_conexion()\n",
    "schema='egresados'\n",
    "import numpy as np\n",
    "\n"
   ]
  },
  {
   "cell_type": "code",
   "execution_count": 37,
   "metadata": {},
   "outputs": [
    {
     "data": {
      "text/html": [
       "<div>\n",
       "<style scoped>\n",
       "    .dataframe tbody tr th:only-of-type {\n",
       "        vertical-align: middle;\n",
       "    }\n",
       "\n",
       "    .dataframe tbody tr th {\n",
       "        vertical-align: top;\n",
       "    }\n",
       "\n",
       "    .dataframe thead th {\n",
       "        text-align: right;\n",
       "    }\n",
       "</style>\n",
       "<table border=\"1\" class=\"dataframe\">\n",
       "  <thead>\n",
       "    <tr style=\"text-align: right;\">\n",
       "      <th></th>\n",
       "      <th>agno</th>\n",
       "      <th>rbd</th>\n",
       "      <th>cod_ense</th>\n",
       "      <th>mrun</th>\n",
       "    </tr>\n",
       "  </thead>\n",
       "  <tbody>\n",
       "    <tr>\n",
       "      <th>0</th>\n",
       "      <td>2011</td>\n",
       "      <td>2219</td>\n",
       "      <td>710</td>\n",
       "      <td>108578</td>\n",
       "    </tr>\n",
       "    <tr>\n",
       "      <th>1</th>\n",
       "      <td>2011</td>\n",
       "      <td>2219</td>\n",
       "      <td>710</td>\n",
       "      <td>317502</td>\n",
       "    </tr>\n",
       "    <tr>\n",
       "      <th>2</th>\n",
       "      <td>2011</td>\n",
       "      <td>2219</td>\n",
       "      <td>710</td>\n",
       "      <td>557110</td>\n",
       "    </tr>\n",
       "    <tr>\n",
       "      <th>3</th>\n",
       "      <td>2011</td>\n",
       "      <td>2219</td>\n",
       "      <td>710</td>\n",
       "      <td>573298</td>\n",
       "    </tr>\n",
       "    <tr>\n",
       "      <th>4</th>\n",
       "      <td>2011</td>\n",
       "      <td>2219</td>\n",
       "      <td>710</td>\n",
       "      <td>700528</td>\n",
       "    </tr>\n",
       "    <tr>\n",
       "      <th>...</th>\n",
       "      <td>...</td>\n",
       "      <td>...</td>\n",
       "      <td>...</td>\n",
       "      <td>...</td>\n",
       "    </tr>\n",
       "    <tr>\n",
       "      <th>22621</th>\n",
       "      <td>2023</td>\n",
       "      <td>25185</td>\n",
       "      <td>310</td>\n",
       "      <td>26951902</td>\n",
       "    </tr>\n",
       "    <tr>\n",
       "      <th>22622</th>\n",
       "      <td>2023</td>\n",
       "      <td>25185</td>\n",
       "      <td>310</td>\n",
       "      <td>26966725</td>\n",
       "    </tr>\n",
       "    <tr>\n",
       "      <th>22623</th>\n",
       "      <td>2023</td>\n",
       "      <td>25185</td>\n",
       "      <td>310</td>\n",
       "      <td>26988498</td>\n",
       "    </tr>\n",
       "    <tr>\n",
       "      <th>22624</th>\n",
       "      <td>2023</td>\n",
       "      <td>25185</td>\n",
       "      <td>310</td>\n",
       "      <td>27423366</td>\n",
       "    </tr>\n",
       "    <tr>\n",
       "      <th>22625</th>\n",
       "      <td>2023</td>\n",
       "      <td>25185</td>\n",
       "      <td>310</td>\n",
       "      <td>27580715</td>\n",
       "    </tr>\n",
       "  </tbody>\n",
       "</table>\n",
       "<p>22626 rows × 4 columns</p>\n",
       "</div>"
      ],
      "text/plain": [
       "       agno    rbd  cod_ense      mrun\n",
       "0      2011   2219       710    108578\n",
       "1      2011   2219       710    317502\n",
       "2      2011   2219       710    557110\n",
       "3      2011   2219       710    573298\n",
       "4      2011   2219       710    700528\n",
       "...     ...    ...       ...       ...\n",
       "22621  2023  25185       310  26951902\n",
       "22622  2023  25185       310  26966725\n",
       "22623  2023  25185       310  26988498\n",
       "22624  2023  25185       310  27423366\n",
       "22625  2023  25185       310  27580715\n",
       "\n",
       "[22626 rows x 4 columns]"
      ]
     },
     "execution_count": 37,
     "metadata": {},
     "output_type": "execute_result"
    }
   ],
   "source": [
    "df_benchmark=pd.read_sql_query('select agno, rbd, cod_ense, mrun from egresados.fact_egresados where egresado_flg=1',cnn)\n",
    "df_benchmark"
   ]
  },
  {
   "cell_type": "markdown",
   "metadata": {},
   "source": [
    "# **Pruebas de Admisión**"
   ]
  },
  {
   "cell_type": "code",
   "execution_count": 66,
   "metadata": {},
   "outputs": [
    {
     "name": "stdout",
     "output_type": "stream",
     "text": [
      "<class 'pandas.core.frame.DataFrame'>\n",
      "RangeIndex: 306376 entries, 0 to 306375\n",
      "Data columns (total 62 columns):\n",
      " #   Column                  Non-Null Count   Dtype \n",
      "---  ------                  --------------   ----- \n",
      " 0   ï»¿TIPO_IDENTIFICACION  306376 non-null  object\n",
      " 1   MRUN                    306376 non-null  int64 \n",
      " 2   AÃO_PROCESO            306376 non-null  int64 \n",
      " 3   COD_SEXO                306376 non-null  int64 \n",
      " 4   FECHA_NACIMIENTO        306376 non-null  int64 \n",
      " 5   RBD                     306376 non-null  int64 \n",
      " 6   CODIGO_ENSEÃANZA       306376 non-null  int64 \n",
      " 7   LOCAL_EDUCACIONAL       306376 non-null  int64 \n",
      " 8   UNIDAD_EDUCATIVA        306376 non-null  int64 \n",
      " 9   NOMBRE_UNIDAD_EDUC      306376 non-null  object\n",
      " 10  RAMA_EDUCACIONAL        306376 non-null  object\n",
      " 11  GRUPO_DEPENDENCIA       306376 non-null  int64 \n",
      " 12  CODIGO_REGION           306376 non-null  int64 \n",
      " 13  NOMBRE_REGION           306376 non-null  object\n",
      " 14  CODIGO_PROVINCIA        306376 non-null  int64 \n",
      " 15  NOMBRE_PROVINCIA        306376 non-null  object\n",
      " 16  CODIGO_COMUNA           306376 non-null  int64 \n",
      " 17  NOMBRE_COMUNA           306376 non-null  object\n",
      " 18  AÃO_EGRESO             306376 non-null  int64 \n",
      " 19  PROMEDIO_NOTAS          306376 non-null  object\n",
      " 20  PUNTAJES_PROCESO        306376 non-null  int64 \n",
      " 21  PTJE_NEM                306376 non-null  int64 \n",
      " 22  PERCENTIL_NOTAS         306376 non-null  object\n",
      " 23  PTJE_RANKING            306376 non-null  int64 \n",
      " 24  LYC_ACTUAL              306376 non-null  int64 \n",
      " 25  MATE_ACTUAL             306376 non-null  int64 \n",
      " 26  HYCS_ACTUAL             306376 non-null  int64 \n",
      " 27  CIENCIAS_ACTUAL         306376 non-null  int64 \n",
      " 28  PROMLM_ACTUAL           306376 non-null  object\n",
      " 29  PERCENTIL_LM_ACTUAL     306376 non-null  int64 \n",
      " 30  BEA                     306376 non-null  object\n",
      " 31  LYC_ANTERIOR            306376 non-null  int64 \n",
      " 32  MATE_ANTERIOR           306376 non-null  int64 \n",
      " 33  HYCS_ANTERIOR           306376 non-null  int64 \n",
      " 34  CIENCIAS_ANTERIOR       306376 non-null  int64 \n",
      " 35  PROMLM_ANTERIOR         306376 non-null  object\n",
      " 36  PERCENTIL_LM_ANTERIOR   306376 non-null  int64 \n",
      " 37  FORMA_LEN               306376 non-null  int64 \n",
      " 38  FORMA_MAT               306376 non-null  int64 \n",
      " 39  FORMA_HIS               306376 non-null  int64 \n",
      " 40  FORMA_CIENCIAS          306376 non-null  int64 \n",
      " 41  PR_CORRECTAS_LEN        306376 non-null  int64 \n",
      " 42  PR_ERRADAS_LEN          306376 non-null  int64 \n",
      " 43  PR_OMITIDAS_LEN         306376 non-null  int64 \n",
      " 44  PR_CORRECTAS_MAT        306376 non-null  int64 \n",
      " 45  PR_ERRADAS_MAT          306376 non-null  int64 \n",
      " 46  PR_OMITIDAS_MAT         306376 non-null  int64 \n",
      " 47  PR_CORRECTAS_HIS        306376 non-null  int64 \n",
      " 48  PR_ERRADAS_HIS          306376 non-null  int64 \n",
      " 49  PR_OMITIDAS_HIS         306376 non-null  int64 \n",
      " 50  PR_CORRECTAS_BIO        306376 non-null  int64 \n",
      " 51  PR_ERRADAS_BIO          306376 non-null  int64 \n",
      " 52  PR_OMITIDAS_BIO         306376 non-null  int64 \n",
      " 53  PR_CORRECTAS_FIS        306376 non-null  int64 \n",
      " 54  PR_ERRADAS_FIS          306376 non-null  int64 \n",
      " 55  PR_OMITIDAS_FIS         306376 non-null  int64 \n",
      " 56  PR_CORRECTAS_QUI        306376 non-null  int64 \n",
      " 57  PR_ERRADAS_QUI          306376 non-null  int64 \n",
      " 58  PR_OMITIDAS_QUI         306376 non-null  int64 \n",
      " 59  PR_CORRECTAS_TP         306376 non-null  int64 \n",
      " 60  PR_ERRADAS_TP           306376 non-null  int64 \n",
      " 61  PR_OMITIDAS_TP          306376 non-null  int64 \n",
      "dtypes: int64(51), object(11)\n",
      "memory usage: 144.9+ MB\n"
     ]
    }
   ],
   "source": [
    "df_prueba=pd.read_csv('pruebas_admision/A_INSCRITOS_PUNTAJES_PSU_2018_PRIV_MRUN.csv',sep=';',encoding='latin1')\n",
    "df_prueba.info()\n",
    "# df_egresados=df_rendimiento.loc[:,\n",
    "#                    #[i.lower() for i in\n",
    "#                     ['AGNO', 'RBD', 'COD_ENSE', 'COD_GRADO', 'LET_CUR',  'MRUN',  'PROM_GRAL', 'ASISTENCIA', 'SIT_FIN','SIT_FIN_R']\n",
    "#                     #]\n",
    "#                    ]\n",
    "# df_egresados.to_csv('egresados_2011.csv',sep=';')\n",
    "#df_prueba.columns\n",
    "# new_cols=['mrun', 'anyo_proceso','rbd','prom_notas','nem','clec','mate','hcsoc','cien','ranking']\n",
    "# df_prueba=df_prueba.loc[:,['MRUN', 'AÑO_PROCESO','RBD','PROMEDIO_NOTAS','PTJE_NEM','LYC_ACTUAL','MATE_ACTUAL','HYCS_ACTUAL','CIENCIAS_ACTUAL','PTJE_RANKING']]\n",
    "# df_prueba.columns=new_cols\n",
    "# df_prueba.to_csv('prueba_admision_proceso_2012.csv',sep=';')\n"
   ]
  },
  {
   "cell_type": "code",
   "execution_count": 79,
   "metadata": {},
   "outputs": [],
   "source": [
    "lst_dfs=[]\n",
    "for file in glob.glob('bases/pruebas_admision/*.csv'):\n",
    "    lst_dfs.append(pd.read_csv(file,sep=';'))\n",
    "df_prueba=pd.concat(lst_dfs)\n",
    "df_prueba['rbd']=pd.to_numeric(df_prueba['rbd'], errors='coerce', downcast='integer')\n",
    "df_prueba['clec']=pd.to_numeric(df_prueba['clec'], errors='coerce', downcast='integer')\n",
    "df_prueba['mate']=pd.to_numeric(df_prueba['mate'], errors='coerce', downcast='integer')\n",
    "df_prueba['hcsoc']=pd.to_numeric(df_prueba['clec'], errors='coerce', downcast='integer')\n",
    "df_prueba['cien']=pd.to_numeric(df_prueba['mate'], errors='coerce', downcast='integer')\n",
    "df_prueba.to_csv('prueba_admision_proceso_2011_2023.csv',sep=';')"
   ]
  },
  {
   "cell_type": "code",
   "execution_count": 81,
   "metadata": {},
   "outputs": [],
   "source": [
    "df_prueba_admision=pd.merge(df_prueba,df_benchmark,how='inner',on=['mrun','rbd']).loc[:,['anyo_proceso','agno', 'rbd', 'cod_ense','mrun',  'prom_notas', 'nem', 'clec', 'mate',\n",
    "       'hcsoc', 'cien', 'ranking']]\n",
    "columnas_a_procesar = ['clec', 'mate', 'hcsoc', 'cien']\n",
    "for columna in columnas_a_procesar:\n",
    "    df_prueba_admision[columna] = df_prueba_admision[columna].replace(0, np.nan)\n"
   ]
  },
  {
   "cell_type": "code",
   "execution_count": 82,
   "metadata": {},
   "outputs": [
    {
     "name": "stdout",
     "output_type": "stream",
     "text": [
      "La tabla <<egresados.prueba_admision_edsup>> no existe, omitiendo\n"
     ]
    }
   ],
   "source": [
    "tabla='prueba_admision_edsup'\n",
    "pp.insert_table(cnn,schema, tabla,df_prueba_admision)"
   ]
  },
  {
   "cell_type": "code",
   "execution_count": 29,
   "metadata": {},
   "outputs": [],
   "source": [
    "df_egresados=  pd.merge(df_egresados[df_egresados['COD_GRADO']==4],df_benchmark,how='inner', left_on=['RBD','COD_ENSE'],right_on=['bench_rbd','cod_ense']).loc[:,\n",
    "                   #[i.lower() for i in\n",
    "                    ['AGNO', 'RBD', \n",
    "       'COD_ENSE', 'COD_GRADO', 'LET_CUR',  'MRUN',  'PROM_GRAL', 'ASISTENCIA', 'SIT_FIN',\n",
    "       'SIT_FIN_R']]#]\n",
    "df_egresados.columns=[i.lower() for i in df_egresados.columns]"
   ]
  },
  {
   "cell_type": "code",
   "execution_count": 30,
   "metadata": {},
   "outputs": [
    {
     "name": "stdout",
     "output_type": "stream",
     "text": [
      "La tabla <<egresados.egresados>> no existe, omitiendo\n"
     ]
    }
   ],
   "source": [
    "tabla='egresados'\n",
    "\n",
    "pp.insert_table(cnn,schema, tabla,df_egresados)"
   ]
  }
 ],
 "metadata": {
  "kernelspec": {
   "display_name": "base",
   "language": "python",
   "name": "python3"
  },
  "language_info": {
   "codemirror_mode": {
    "name": "ipython",
    "version": 3
   },
   "file_extension": ".py",
   "mimetype": "text/x-python",
   "name": "python",
   "nbconvert_exporter": "python",
   "pygments_lexer": "ipython3",
   "version": "3.9.7"
  }
 },
 "nbformat": 4,
 "nbformat_minor": 2
}
